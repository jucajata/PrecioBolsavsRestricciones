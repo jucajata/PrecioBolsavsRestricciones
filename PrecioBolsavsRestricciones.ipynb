{
  "nbformat": 4,
  "nbformat_minor": 0,
  "metadata": {
    "colab": {
      "provenance": []
    },
    "kernelspec": {
      "name": "python3",
      "display_name": "Python 3"
    },
    "language_info": {
      "name": "python"
    }
  },
  "cells": [
    {
      "cell_type": "markdown",
      "source": [
        "# Análisis de Precio de Bolsa vs Restricciones"
      ],
      "metadata": {
        "id": "VwqO0EsAbHts"
      }
    },
    {
      "cell_type": "markdown",
      "source": [
        "Autor: Juan Camilo Jaramillo Tascón: https://www.linkedin.com/in/juancjaramillot/"
      ],
      "metadata": {
        "id": "LunFQFarltLC"
      }
    },
    {
      "cell_type": "code",
      "execution_count": 1,
      "metadata": {
        "id": "3zd_ApSpL3E1"
      },
      "outputs": [],
      "source": [
        "#pip install pydataxm"
      ]
    },
    {
      "cell_type": "code",
      "source": [
        "from pydataxm import *\n",
        "import datetime as dt     \n",
        "import pandas as pd                       "
      ],
      "metadata": {
        "id": "DBQHD0A4L7b-"
      },
      "execution_count": 2,
      "outputs": []
    },
    {
      "cell_type": "code",
      "source": [
        "objetoAPI = pydataxm.ReadDB()"
      ],
      "metadata": {
        "id": "eFYK4xnIMTij"
      },
      "execution_count": 3,
      "outputs": []
    },
    {
      "cell_type": "markdown",
      "source": [
        "## Precio de Bolsa Nacional - Sistema"
      ],
      "metadata": {
        "id": "TIbYgfMnUe7g"
      }
    },
    {
      "cell_type": "code",
      "source": [
        "df_pb = objetoAPI.request_data(\n",
        "                        \"PrecBolsNaci\",           \n",
        "                        \"Sistema\",                \n",
        "                        dt.date(2021, 12, 12),    \n",
        "                        dt.date(2022, 12, 8))\n",
        "\n",
        "df_pb.index = df_pb['Date']\n",
        "df_pb = df_pb.drop(columns=['Id', 'Values_code', 'Date'])\n",
        "df_pb['$/kWh_prom_día'] = df_pb.mean(axis=1)"
      ],
      "metadata": {
        "id": "8qAXQJELM0NG"
      },
      "execution_count": 4,
      "outputs": []
    },
    {
      "cell_type": "markdown",
      "source": [
        "## Restricciones Aliviadas - Sistema"
      ],
      "metadata": {
        "id": "AGNJ66a5Uhk6"
      }
    },
    {
      "cell_type": "code",
      "source": [
        "df_r = objetoAPI.request_data(\n",
        "                        \"RestAliv\",           \n",
        "                        \"Sistema\",                \n",
        "                        dt.date(2021, 12, 12),    \n",
        "                        dt.date(2022, 12, 8))\n",
        "\n",
        "df_r.index = df_r['Date']\n",
        "df_r = df_r.drop(columns=['Id', 'Values_code', 'Date'])\n",
        "df_r['$_sum_día'] = df_r.sum(axis=1)"
      ],
      "metadata": {
        "id": "ZxMfMv6KPN03"
      },
      "execution_count": 5,
      "outputs": []
    },
    {
      "cell_type": "markdown",
      "source": [
        "## Demanda Comercial - Sistema"
      ],
      "metadata": {
        "id": "9sQuzHkEUlM8"
      }
    },
    {
      "cell_type": "code",
      "source": [
        "df_d = objetoAPI.request_data(\n",
        "                        \"DemaCome\",           \n",
        "                        \"Sistema\",                \n",
        "                        dt.date(2021, 12, 12),    \n",
        "                        dt.date(2022, 12, 8))\n",
        "\n",
        "df_d.index = df_d['Date']\n",
        "df_d = df_d.drop(columns=['Id', 'Values_code', 'Date'])\n",
        "df_d['kWh_sum_día'] = df_d.sum(axis=1)"
      ],
      "metadata": {
        "id": "nVs8WtVEUdsH"
      },
      "execution_count": 6,
      "outputs": []
    },
    {
      "cell_type": "markdown",
      "source": [
        "## Procesamiento de información"
      ],
      "metadata": {
        "id": "crM2cGvLY4UJ"
      }
    },
    {
      "cell_type": "code",
      "source": [
        "df_t = pd.DataFrame()\n",
        "df_t['RestAliv_$/kWh'] = df_r.loc[:, '$_sum_día']/df_d.loc[:, 'kWh_sum_día']\n",
        "df_t['PrecioBolsa_$/kWh'] = df_pb.loc[:, '$/kWh_prom_día']\n",
        "df_t"
      ],
      "metadata": {
        "colab": {
          "base_uri": "https://localhost:8080/",
          "height": 455
        },
        "id": "ApapOhKsX_Ov",
        "outputId": "952163cc-a5ad-4033-eb8a-d348cf0194ee"
      },
      "execution_count": 7,
      "outputs": [
        {
          "output_type": "execute_result",
          "data": {
            "text/plain": [
              "            RestAliv_$/kWh  PrecioBolsa_$/kWh\n",
              "Date                                         \n",
              "2021-12-12       24.536385         245.800083\n",
              "2021-12-13       21.548910         301.525793\n",
              "2021-12-14       14.977041         364.594810\n",
              "2021-12-15       11.779841         406.615585\n",
              "2021-12-16        9.650646         479.440777\n",
              "...                    ...                ...\n",
              "2022-12-04       17.772892         250.631250\n",
              "2022-12-05       16.889014         292.813588\n",
              "2022-12-06       16.730284         242.382067\n",
              "2022-12-07       20.683755         247.138373\n",
              "2022-12-08       17.036867         235.950140\n",
              "\n",
              "[362 rows x 2 columns]"
            ],
            "text/html": [
              "\n",
              "  <div id=\"df-08318ca2-dfb7-41ed-bbd1-877a77ffbc97\">\n",
              "    <div class=\"colab-df-container\">\n",
              "      <div>\n",
              "<style scoped>\n",
              "    .dataframe tbody tr th:only-of-type {\n",
              "        vertical-align: middle;\n",
              "    }\n",
              "\n",
              "    .dataframe tbody tr th {\n",
              "        vertical-align: top;\n",
              "    }\n",
              "\n",
              "    .dataframe thead th {\n",
              "        text-align: right;\n",
              "    }\n",
              "</style>\n",
              "<table border=\"1\" class=\"dataframe\">\n",
              "  <thead>\n",
              "    <tr style=\"text-align: right;\">\n",
              "      <th></th>\n",
              "      <th>RestAliv_$/kWh</th>\n",
              "      <th>PrecioBolsa_$/kWh</th>\n",
              "    </tr>\n",
              "    <tr>\n",
              "      <th>Date</th>\n",
              "      <th></th>\n",
              "      <th></th>\n",
              "    </tr>\n",
              "  </thead>\n",
              "  <tbody>\n",
              "    <tr>\n",
              "      <th>2021-12-12</th>\n",
              "      <td>24.536385</td>\n",
              "      <td>245.800083</td>\n",
              "    </tr>\n",
              "    <tr>\n",
              "      <th>2021-12-13</th>\n",
              "      <td>21.548910</td>\n",
              "      <td>301.525793</td>\n",
              "    </tr>\n",
              "    <tr>\n",
              "      <th>2021-12-14</th>\n",
              "      <td>14.977041</td>\n",
              "      <td>364.594810</td>\n",
              "    </tr>\n",
              "    <tr>\n",
              "      <th>2021-12-15</th>\n",
              "      <td>11.779841</td>\n",
              "      <td>406.615585</td>\n",
              "    </tr>\n",
              "    <tr>\n",
              "      <th>2021-12-16</th>\n",
              "      <td>9.650646</td>\n",
              "      <td>479.440777</td>\n",
              "    </tr>\n",
              "    <tr>\n",
              "      <th>...</th>\n",
              "      <td>...</td>\n",
              "      <td>...</td>\n",
              "    </tr>\n",
              "    <tr>\n",
              "      <th>2022-12-04</th>\n",
              "      <td>17.772892</td>\n",
              "      <td>250.631250</td>\n",
              "    </tr>\n",
              "    <tr>\n",
              "      <th>2022-12-05</th>\n",
              "      <td>16.889014</td>\n",
              "      <td>292.813588</td>\n",
              "    </tr>\n",
              "    <tr>\n",
              "      <th>2022-12-06</th>\n",
              "      <td>16.730284</td>\n",
              "      <td>242.382067</td>\n",
              "    </tr>\n",
              "    <tr>\n",
              "      <th>2022-12-07</th>\n",
              "      <td>20.683755</td>\n",
              "      <td>247.138373</td>\n",
              "    </tr>\n",
              "    <tr>\n",
              "      <th>2022-12-08</th>\n",
              "      <td>17.036867</td>\n",
              "      <td>235.950140</td>\n",
              "    </tr>\n",
              "  </tbody>\n",
              "</table>\n",
              "<p>362 rows × 2 columns</p>\n",
              "</div>\n",
              "      <button class=\"colab-df-convert\" onclick=\"convertToInteractive('df-08318ca2-dfb7-41ed-bbd1-877a77ffbc97')\"\n",
              "              title=\"Convert this dataframe to an interactive table.\"\n",
              "              style=\"display:none;\">\n",
              "        \n",
              "  <svg xmlns=\"http://www.w3.org/2000/svg\" height=\"24px\"viewBox=\"0 0 24 24\"\n",
              "       width=\"24px\">\n",
              "    <path d=\"M0 0h24v24H0V0z\" fill=\"none\"/>\n",
              "    <path d=\"M18.56 5.44l.94 2.06.94-2.06 2.06-.94-2.06-.94-.94-2.06-.94 2.06-2.06.94zm-11 1L8.5 8.5l.94-2.06 2.06-.94-2.06-.94L8.5 2.5l-.94 2.06-2.06.94zm10 10l.94 2.06.94-2.06 2.06-.94-2.06-.94-.94-2.06-.94 2.06-2.06.94z\"/><path d=\"M17.41 7.96l-1.37-1.37c-.4-.4-.92-.59-1.43-.59-.52 0-1.04.2-1.43.59L10.3 9.45l-7.72 7.72c-.78.78-.78 2.05 0 2.83L4 21.41c.39.39.9.59 1.41.59.51 0 1.02-.2 1.41-.59l7.78-7.78 2.81-2.81c.8-.78.8-2.07 0-2.86zM5.41 20L4 18.59l7.72-7.72 1.47 1.35L5.41 20z\"/>\n",
              "  </svg>\n",
              "      </button>\n",
              "      \n",
              "  <style>\n",
              "    .colab-df-container {\n",
              "      display:flex;\n",
              "      flex-wrap:wrap;\n",
              "      gap: 12px;\n",
              "    }\n",
              "\n",
              "    .colab-df-convert {\n",
              "      background-color: #E8F0FE;\n",
              "      border: none;\n",
              "      border-radius: 50%;\n",
              "      cursor: pointer;\n",
              "      display: none;\n",
              "      fill: #1967D2;\n",
              "      height: 32px;\n",
              "      padding: 0 0 0 0;\n",
              "      width: 32px;\n",
              "    }\n",
              "\n",
              "    .colab-df-convert:hover {\n",
              "      background-color: #E2EBFA;\n",
              "      box-shadow: 0px 1px 2px rgba(60, 64, 67, 0.3), 0px 1px 3px 1px rgba(60, 64, 67, 0.15);\n",
              "      fill: #174EA6;\n",
              "    }\n",
              "\n",
              "    [theme=dark] .colab-df-convert {\n",
              "      background-color: #3B4455;\n",
              "      fill: #D2E3FC;\n",
              "    }\n",
              "\n",
              "    [theme=dark] .colab-df-convert:hover {\n",
              "      background-color: #434B5C;\n",
              "      box-shadow: 0px 1px 3px 1px rgba(0, 0, 0, 0.15);\n",
              "      filter: drop-shadow(0px 1px 2px rgba(0, 0, 0, 0.3));\n",
              "      fill: #FFFFFF;\n",
              "    }\n",
              "  </style>\n",
              "\n",
              "      <script>\n",
              "        const buttonEl =\n",
              "          document.querySelector('#df-08318ca2-dfb7-41ed-bbd1-877a77ffbc97 button.colab-df-convert');\n",
              "        buttonEl.style.display =\n",
              "          google.colab.kernel.accessAllowed ? 'block' : 'none';\n",
              "\n",
              "        async function convertToInteractive(key) {\n",
              "          const element = document.querySelector('#df-08318ca2-dfb7-41ed-bbd1-877a77ffbc97');\n",
              "          const dataTable =\n",
              "            await google.colab.kernel.invokeFunction('convertToInteractive',\n",
              "                                                     [key], {});\n",
              "          if (!dataTable) return;\n",
              "\n",
              "          const docLinkHtml = 'Like what you see? Visit the ' +\n",
              "            '<a target=\"_blank\" href=https://colab.research.google.com/notebooks/data_table.ipynb>data table notebook</a>'\n",
              "            + ' to learn more about interactive tables.';\n",
              "          element.innerHTML = '';\n",
              "          dataTable['output_type'] = 'display_data';\n",
              "          await google.colab.output.renderOutput(dataTable, element);\n",
              "          const docLink = document.createElement('div');\n",
              "          docLink.innerHTML = docLinkHtml;\n",
              "          element.appendChild(docLink);\n",
              "        }\n",
              "      </script>\n",
              "    </div>\n",
              "  </div>\n",
              "  "
            ]
          },
          "metadata": {},
          "execution_count": 7
        }
      ]
    },
    {
      "cell_type": "code",
      "source": [
        "df_t.describe()"
      ],
      "metadata": {
        "colab": {
          "base_uri": "https://localhost:8080/",
          "height": 300
        },
        "id": "Cr6HuvcnbZn5",
        "outputId": "a512b9f9-f73b-4db7-fae0-2c3672143717"
      },
      "execution_count": 8,
      "outputs": [
        {
          "output_type": "execute_result",
          "data": {
            "text/plain": [
              "       RestAliv_$/kWh  PrecioBolsa_$/kWh\n",
              "count      362.000000         362.000000\n",
              "mean        31.646560         219.393380\n",
              "std         14.574814         125.868537\n",
              "min         -0.183725          94.777213\n",
              "25%         22.460461         109.591520\n",
              "50%         29.478363         194.868377\n",
              "75%         42.055641         276.969541\n",
              "max         97.324687         679.975688"
            ],
            "text/html": [
              "\n",
              "  <div id=\"df-c7fd3b1d-27ec-42bf-8349-db5f5cfa5f77\">\n",
              "    <div class=\"colab-df-container\">\n",
              "      <div>\n",
              "<style scoped>\n",
              "    .dataframe tbody tr th:only-of-type {\n",
              "        vertical-align: middle;\n",
              "    }\n",
              "\n",
              "    .dataframe tbody tr th {\n",
              "        vertical-align: top;\n",
              "    }\n",
              "\n",
              "    .dataframe thead th {\n",
              "        text-align: right;\n",
              "    }\n",
              "</style>\n",
              "<table border=\"1\" class=\"dataframe\">\n",
              "  <thead>\n",
              "    <tr style=\"text-align: right;\">\n",
              "      <th></th>\n",
              "      <th>RestAliv_$/kWh</th>\n",
              "      <th>PrecioBolsa_$/kWh</th>\n",
              "    </tr>\n",
              "  </thead>\n",
              "  <tbody>\n",
              "    <tr>\n",
              "      <th>count</th>\n",
              "      <td>362.000000</td>\n",
              "      <td>362.000000</td>\n",
              "    </tr>\n",
              "    <tr>\n",
              "      <th>mean</th>\n",
              "      <td>31.646560</td>\n",
              "      <td>219.393380</td>\n",
              "    </tr>\n",
              "    <tr>\n",
              "      <th>std</th>\n",
              "      <td>14.574814</td>\n",
              "      <td>125.868537</td>\n",
              "    </tr>\n",
              "    <tr>\n",
              "      <th>min</th>\n",
              "      <td>-0.183725</td>\n",
              "      <td>94.777213</td>\n",
              "    </tr>\n",
              "    <tr>\n",
              "      <th>25%</th>\n",
              "      <td>22.460461</td>\n",
              "      <td>109.591520</td>\n",
              "    </tr>\n",
              "    <tr>\n",
              "      <th>50%</th>\n",
              "      <td>29.478363</td>\n",
              "      <td>194.868377</td>\n",
              "    </tr>\n",
              "    <tr>\n",
              "      <th>75%</th>\n",
              "      <td>42.055641</td>\n",
              "      <td>276.969541</td>\n",
              "    </tr>\n",
              "    <tr>\n",
              "      <th>max</th>\n",
              "      <td>97.324687</td>\n",
              "      <td>679.975688</td>\n",
              "    </tr>\n",
              "  </tbody>\n",
              "</table>\n",
              "</div>\n",
              "      <button class=\"colab-df-convert\" onclick=\"convertToInteractive('df-c7fd3b1d-27ec-42bf-8349-db5f5cfa5f77')\"\n",
              "              title=\"Convert this dataframe to an interactive table.\"\n",
              "              style=\"display:none;\">\n",
              "        \n",
              "  <svg xmlns=\"http://www.w3.org/2000/svg\" height=\"24px\"viewBox=\"0 0 24 24\"\n",
              "       width=\"24px\">\n",
              "    <path d=\"M0 0h24v24H0V0z\" fill=\"none\"/>\n",
              "    <path d=\"M18.56 5.44l.94 2.06.94-2.06 2.06-.94-2.06-.94-.94-2.06-.94 2.06-2.06.94zm-11 1L8.5 8.5l.94-2.06 2.06-.94-2.06-.94L8.5 2.5l-.94 2.06-2.06.94zm10 10l.94 2.06.94-2.06 2.06-.94-2.06-.94-.94-2.06-.94 2.06-2.06.94z\"/><path d=\"M17.41 7.96l-1.37-1.37c-.4-.4-.92-.59-1.43-.59-.52 0-1.04.2-1.43.59L10.3 9.45l-7.72 7.72c-.78.78-.78 2.05 0 2.83L4 21.41c.39.39.9.59 1.41.59.51 0 1.02-.2 1.41-.59l7.78-7.78 2.81-2.81c.8-.78.8-2.07 0-2.86zM5.41 20L4 18.59l7.72-7.72 1.47 1.35L5.41 20z\"/>\n",
              "  </svg>\n",
              "      </button>\n",
              "      \n",
              "  <style>\n",
              "    .colab-df-container {\n",
              "      display:flex;\n",
              "      flex-wrap:wrap;\n",
              "      gap: 12px;\n",
              "    }\n",
              "\n",
              "    .colab-df-convert {\n",
              "      background-color: #E8F0FE;\n",
              "      border: none;\n",
              "      border-radius: 50%;\n",
              "      cursor: pointer;\n",
              "      display: none;\n",
              "      fill: #1967D2;\n",
              "      height: 32px;\n",
              "      padding: 0 0 0 0;\n",
              "      width: 32px;\n",
              "    }\n",
              "\n",
              "    .colab-df-convert:hover {\n",
              "      background-color: #E2EBFA;\n",
              "      box-shadow: 0px 1px 2px rgba(60, 64, 67, 0.3), 0px 1px 3px 1px rgba(60, 64, 67, 0.15);\n",
              "      fill: #174EA6;\n",
              "    }\n",
              "\n",
              "    [theme=dark] .colab-df-convert {\n",
              "      background-color: #3B4455;\n",
              "      fill: #D2E3FC;\n",
              "    }\n",
              "\n",
              "    [theme=dark] .colab-df-convert:hover {\n",
              "      background-color: #434B5C;\n",
              "      box-shadow: 0px 1px 3px 1px rgba(0, 0, 0, 0.15);\n",
              "      filter: drop-shadow(0px 1px 2px rgba(0, 0, 0, 0.3));\n",
              "      fill: #FFFFFF;\n",
              "    }\n",
              "  </style>\n",
              "\n",
              "      <script>\n",
              "        const buttonEl =\n",
              "          document.querySelector('#df-c7fd3b1d-27ec-42bf-8349-db5f5cfa5f77 button.colab-df-convert');\n",
              "        buttonEl.style.display =\n",
              "          google.colab.kernel.accessAllowed ? 'block' : 'none';\n",
              "\n",
              "        async function convertToInteractive(key) {\n",
              "          const element = document.querySelector('#df-c7fd3b1d-27ec-42bf-8349-db5f5cfa5f77');\n",
              "          const dataTable =\n",
              "            await google.colab.kernel.invokeFunction('convertToInteractive',\n",
              "                                                     [key], {});\n",
              "          if (!dataTable) return;\n",
              "\n",
              "          const docLinkHtml = 'Like what you see? Visit the ' +\n",
              "            '<a target=\"_blank\" href=https://colab.research.google.com/notebooks/data_table.ipynb>data table notebook</a>'\n",
              "            + ' to learn more about interactive tables.';\n",
              "          element.innerHTML = '';\n",
              "          dataTable['output_type'] = 'display_data';\n",
              "          await google.colab.output.renderOutput(dataTable, element);\n",
              "          const docLink = document.createElement('div');\n",
              "          docLink.innerHTML = docLinkHtml;\n",
              "          element.appendChild(docLink);\n",
              "        }\n",
              "      </script>\n",
              "    </div>\n",
              "  </div>\n",
              "  "
            ]
          },
          "metadata": {},
          "execution_count": 8
        }
      ]
    },
    {
      "cell_type": "markdown",
      "source": [
        "## Visualización de información y conclusiones - Precio de Bolsa vs Restricciones"
      ],
      "metadata": {
        "id": "2SoNFWv8ZNYV"
      }
    },
    {
      "cell_type": "code",
      "source": [
        "import seaborn as sns\n",
        "import matplotlib.pyplot as plt\n",
        "sns.regplot(data=df_t,x='PrecioBolsa_$/kWh', y='RestAliv_$/kWh', color='r')\n",
        "plt.title('Precio de Bolsa vs Restricciones')\n",
        "plt.xlabel('Precio de Bolsa $/kWh')\n",
        "plt.ylabel('Restricciones $/kWh')\n",
        "plt.ylim(0,)\n",
        "plt.show()"
      ],
      "metadata": {
        "colab": {
          "base_uri": "https://localhost:8080/",
          "height": 295
        },
        "id": "3ASDkOkPZeJs",
        "outputId": "e05a3f74-0c64-4360-e878-44395b579cb9"
      },
      "execution_count": 9,
      "outputs": [
        {
          "output_type": "display_data",
          "data": {
            "text/plain": [
              "<Figure size 432x288 with 1 Axes>"
            ],
            "image/png": "[encoded data removed]"
          },
          "metadata": {
            "needs_background": "light"
          }
        }
      ]
    },
    {
      "cell_type": "code",
      "source": [
        "df_t.corr()"
      ],
      "metadata": {
        "colab": {
          "base_uri": "https://localhost:8080/",
          "height": 112
        },
        "id": "E5zWpO2nakT6",
        "outputId": "f450f34c-1d7a-4b56-bdbf-d91eb3c34611"
      },
      "execution_count": 10,
      "outputs": [
        {
          "output_type": "execute_result",
          "data": {
            "text/plain": [
              "                   RestAliv_$/kWh  PrecioBolsa_$/kWh\n",
              "RestAliv_$/kWh           1.000000          -0.811135\n",
              "PrecioBolsa_$/kWh       -0.811135           1.000000"
            ],
            "text/html": [
              "\n",
              "  <div id=\"df-36752046-8d4d-4549-b925-bff2b4204893\">\n",
              "    <div class=\"colab-df-container\">\n",
              "      <div>\n",
              "<style scoped>\n",
              "    .dataframe tbody tr th:only-of-type {\n",
              "        vertical-align: middle;\n",
              "    }\n",
              "\n",
              "    .dataframe tbody tr th {\n",
              "        vertical-align: top;\n",
              "    }\n",
              "\n",
              "    .dataframe thead th {\n",
              "        text-align: right;\n",
              "    }\n",
              "</style>\n",
              "<table border=\"1\" class=\"dataframe\">\n",
              "  <thead>\n",
              "    <tr style=\"text-align: right;\">\n",
              "      <th></th>\n",
              "      <th>RestAliv_$/kWh</th>\n",
              "      <th>PrecioBolsa_$/kWh</th>\n",
              "    </tr>\n",
              "  </thead>\n",
              "  <tbody>\n",
              "    <tr>\n",
              "      <th>RestAliv_$/kWh</th>\n",
              "      <td>1.000000</td>\n",
              "      <td>-0.811135</td>\n",
              "    </tr>\n",
              "    <tr>\n",
              "      <th>PrecioBolsa_$/kWh</th>\n",
              "      <td>-0.811135</td>\n",
              "      <td>1.000000</td>\n",
              "    </tr>\n",
              "  </tbody>\n",
              "</table>\n",
              "</div>\n",
              "      <button class=\"colab-df-convert\" onclick=\"convertToInteractive('df-36752046-8d4d-4549-b925-bff2b4204893')\"\n",
              "              title=\"Convert this dataframe to an interactive table.\"\n",
              "              style=\"display:none;\">\n",
              "        \n",
              "  <svg xmlns=\"http://www.w3.org/2000/svg\" height=\"24px\"viewBox=\"0 0 24 24\"\n",
              "       width=\"24px\">\n",
              "    <path d=\"M0 0h24v24H0V0z\" fill=\"none\"/>\n",
              "    <path d=\"M18.56 5.44l.94 2.06.94-2.06 2.06-.94-2.06-.94-.94-2.06-.94 2.06-2.06.94zm-11 1L8.5 8.5l.94-2.06 2.06-.94-2.06-.94L8.5 2.5l-.94 2.06-2.06.94zm10 10l.94 2.06.94-2.06 2.06-.94-2.06-.94-.94-2.06-.94 2.06-2.06.94z\"/><path d=\"M17.41 7.96l-1.37-1.37c-.4-.4-.92-.59-1.43-.59-.52 0-1.04.2-1.43.59L10.3 9.45l-7.72 7.72c-.78.78-.78 2.05 0 2.83L4 21.41c.39.39.9.59 1.41.59.51 0 1.02-.2 1.41-.59l7.78-7.78 2.81-2.81c.8-.78.8-2.07 0-2.86zM5.41 20L4 18.59l7.72-7.72 1.47 1.35L5.41 20z\"/>\n",
              "  </svg>\n",
              "      </button>\n",
              "      \n",
              "  <style>\n",
              "    .colab-df-container {\n",
              "      display:flex;\n",
              "      flex-wrap:wrap;\n",
              "      gap: 12px;\n",
              "    }\n",
              "\n",
              "    .colab-df-convert {\n",
              "      background-color: #E8F0FE;\n",
              "      border: none;\n",
              "      border-radius: 50%;\n",
              "      cursor: pointer;\n",
              "      display: none;\n",
              "      fill: #1967D2;\n",
              "      height: 32px;\n",
              "      padding: 0 0 0 0;\n",
              "      width: 32px;\n",
              "    }\n",
              "\n",
              "    .colab-df-convert:hover {\n",
              "      background-color: #E2EBFA;\n",
              "      box-shadow: 0px 1px 2px rgba(60, 64, 67, 0.3), 0px 1px 3px 1px rgba(60, 64, 67, 0.15);\n",
              "      fill: #174EA6;\n",
              "    }\n",
              "\n",
              "    [theme=dark] .colab-df-convert {\n",
              "      background-color: #3B4455;\n",
              "      fill: #D2E3FC;\n",
              "    }\n",
              "\n",
              "    [theme=dark] .colab-df-convert:hover {\n",
              "      background-color: #434B5C;\n",
              "      box-shadow: 0px 1px 3px 1px rgba(0, 0, 0, 0.15);\n",
              "      filter: drop-shadow(0px 1px 2px rgba(0, 0, 0, 0.3));\n",
              "      fill: #FFFFFF;\n",
              "    }\n",
              "  </style>\n",
              "\n",
              "      <script>\n",
              "        const buttonEl =\n",
              "          document.querySelector('#df-36752046-8d4d-4549-b925-bff2b4204893 button.colab-df-convert');\n",
              "        buttonEl.style.display =\n",
              "          google.colab.kernel.accessAllowed ? 'block' : 'none';\n",
              "\n",
              "        async function convertToInteractive(key) {\n",
              "          const element = document.querySelector('#df-36752046-8d4d-4549-b925-bff2b4204893');\n",
              "          const dataTable =\n",
              "            await google.colab.kernel.invokeFunction('convertToInteractive',\n",
              "                                                     [key], {});\n",
              "          if (!dataTable) return;\n",
              "\n",
              "          const docLinkHtml = 'Like what you see? Visit the ' +\n",
              "            '<a target=\"_blank\" href=https://colab.research.google.com/notebooks/data_table.ipynb>data table notebook</a>'\n",
              "            + ' to learn more about interactive tables.';\n",
              "          element.innerHTML = '';\n",
              "          dataTable['output_type'] = 'display_data';\n",
              "          await google.colab.output.renderOutput(dataTable, element);\n",
              "          const docLink = document.createElement('div');\n",
              "          docLink.innerHTML = docLinkHtml;\n",
              "          element.appendChild(docLink);\n",
              "        }\n",
              "      </script>\n",
              "    </div>\n",
              "  </div>\n",
              "  "
            ]
          },
          "metadata": {},
          "execution_count": 10
        }
      ]
    },
    {
      "cell_type": "code",
      "source": [
        "from scipy import stats\n",
        "pearson_coef, p_value = stats.pearsonr(df_t['PrecioBolsa_$/kWh'], df_t['RestAliv_$/kWh'])\n",
        "print(\"El coeficiente de correlación de Pearson\", pearson_coef, \" con un P-value de P =\", p_value)  "
      ],
      "metadata": {
        "colab": {
          "base_uri": "https://localhost:8080/",
          "height": 0
        },
        "id": "OpczunMejzhY",
        "outputId": "aa6fc434-f34a-417f-88fa-80d5026b4dfd"
      },
      "execution_count": 11,
      "outputs": [
        {
          "output_type": "stream",
          "name": "stdout",
          "text": [
            "El coeficiente de correlación de Pearson -0.8111349374673561  con un P-value de P = 7.115590076767871e-86\n"
          ]
        }
      ]
    },
    {
      "cell_type": "code",
      "source": [
        "p_value < 0.001"
      ],
      "metadata": {
        "colab": {
          "base_uri": "https://localhost:8080/",
          "height": 0
        },
        "id": "6UDfbjy-kInd",
        "outputId": "6526895d-2928-4470-ce20-9e9d1866b1fe"
      },
      "execution_count": 12,
      "outputs": [
        {
          "output_type": "execute_result",
          "data": {
            "text/plain": [
              "True"
            ]
          },
          "metadata": {},
          "execution_count": 12
        }
      ]
    },
    {
      "cell_type": "markdown",
      "source": [
        "Conclusión:\n",
        "\n",
        "Dado que el p-value es < 0.001, la correlación entre el Precio de Bolsa y las Restricciones es estadísticamente significativa, y la relación lineal negativa es muy fuerte (~ -0.811, cercana a -1)."
      ],
      "metadata": {
        "id": "ch2LVvnHkMz6"
      }
    },
    {
      "cell_type": "markdown",
      "source": [
        "Autor: Juan Camilo Jaramillo Tascón: https://www.linkedin.com/in/juancjaramillot/"
      ],
      "metadata": {
        "id": "LGHW_DojleNl"
      }
    }
  ]
}